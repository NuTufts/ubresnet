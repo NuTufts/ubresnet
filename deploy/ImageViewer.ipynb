{
 "cells": [
  {
   "cell_type": "code",
   "execution_count": null,
   "metadata": {},
   "outputs": [],
   "source": [
    "from __future__ import print_function\n",
    "import ROOT\n",
    "from larcv import larcv\n",
    "import numpy\n",
    "import matplotlib.pyplot as plt\n",
    "%matplotlib inline"
   ]
  },
  {
   "cell_type": "code",
   "execution_count": null,
   "metadata": {},
   "outputs": [],
   "source": [
    "_files = ['output_infill.root']"
   ]
  },
  {
   "cell_type": "code",
   "execution_count": null,
   "metadata": {},
   "outputs": [],
   "source": [
    "_f = ROOT.TFile(_files[0])"
   ]
  },
  {
   "cell_type": "code",
   "execution_count": null,
   "metadata": {},
   "outputs": [],
   "source": [
    "_f.ls()\n"
   ]
  },
  {
   "cell_type": "code",
   "execution_count": null,
   "metadata": {},
   "outputs": [],
   "source": [
    "image2d_wire_chain = ROOT.TChain(\"image2d_wire_tree\")\n",
    "image2d_weights_chain = ROOT.TChain(\"image2d_weights_tree\")\n",
    "image2d_fill_chain = ROOT.TChain(\"image2d_fill_tree\")\n",
    "image2d_nofill_chain = ROOT.TChain(\"image2d_nofill_tree\")\n",
    "image2d_total_chain = ROOT.TChain(\"image2d_total_tree\")\n",
    "image2d_overlay_chain = ROOT.TChain(\"image2d_overlay_tree\")"
   ]
  },
  {
   "cell_type": "code",
   "execution_count": null,
   "metadata": {
    "scrolled": true
   },
   "outputs": [],
   "source": [
    "for _file in _files: image2d_weights_chain.AddFile(_file)\n",
    "print ('Found', image2d_weights_chain.GetEntries(), 'entries in image2d weights')\n",
    "\n",
    "for _file in _files: image2d_wire_chain.AddFile(_file)\n",
    "print ('Found', image2d_wire_chain.GetEntries(), 'entries in image2d wire')\n",
    "\n",
    "for _file in _files: image2d_fill_chain.AddFile(_file)\n",
    "print ('Found', image2d_fill_chain.GetEntries(), 'entries in image2d fill')\n",
    "\n",
    "for _file in _files: image2d_nofill_chain.AddFile(_file)\n",
    "print ('Found', image2d_nofill_chain.GetEntries(), 'entries in image2d nofill')\n",
    "\n",
    "for _file in _files: image2d_total_chain.AddFile(_file)\n",
    "print ('Found', image2d_total_chain.GetEntries(), 'entries in image2d total')\n",
    "\n",
    "for _file in _files: image2d_overlay_chain.AddFile(_file)\n",
    "print ('Found', image2d_overlay_chain.GetEntries(), 'entries in image2d overlay')"
   ]
  },
  {
   "cell_type": "code",
   "execution_count": null,
   "metadata": {
    "scrolled": false
   },
   "outputs": [],
   "source": [
    "for i in range(0,50):\n",
    "    entry=i\n",
    "    image2d_wire_chain.GetEntry(entry)\n",
    "    entry_image2dwire_data = image2d_wire_chain.image2d_wire_branch\n",
    "    print('Data type:', entry_image2dwire_data)\n",
    "    image2dwire_array = entry_image2dwire_data.as_vector()\n",
    "    print('Type of image2dwire_array:', type(image2dwire_array))\n",
    "    print('Number of images:', image2dwire_array.size())\n",
    "    \n",
    "    image2d_weights_chain.GetEntry(entry)\n",
    "    entry_image2dweights_data = image2d_weights_chain.image2d_weights_branch\n",
    "    print('Data type:', entry_image2dweights_data)\n",
    "    image2dweights_array = entry_image2dweights_data.as_vector()\n",
    "    print('Type of image2dweights_array:', type(image2dweights_array))\n",
    "    print('Number of images:', image2dweights_array.size())\n",
    "    \n",
    "    image2d_fill_chain.GetEntry(entry)\n",
    "    entry_image2dfill_data = image2d_fill_chain.image2d_fill_branch\n",
    "    print('Data type:', entry_image2dfill_data)\n",
    "    image2dfill_array = entry_image2dfill_data.as_vector()\n",
    "    print('Type of image2dfill_array:', type(image2dfill_array))\n",
    "    print('Number of images:', image2dfill_array.size())\n",
    "    \n",
    "    image2d_nofill_chain.GetEntry(entry)\n",
    "    entry_image2dnofill_data = image2d_nofill_chain.image2d_nofill_branch\n",
    "    print('Data type:', entry_image2dnofill_data)\n",
    "    image2dnofill_array = entry_image2dnofill_data.as_vector()\n",
    "    print('Type of image2dnofill_array:', type(image2dnofill_array))\n",
    "    print('Number of images:', image2dnofill_array.size())\n",
    "    \n",
    "    image2d_total_chain.GetEntry(entry)\n",
    "    entry_image2dtotal_data = image2d_total_chain.image2d_total_branch\n",
    "    print('Data type:', entry_image2dtotal_data)\n",
    "    image2dtotal_array = entry_image2dtotal_data.as_vector()\n",
    "    print('Type of image2dtotal_array:', type(image2dtotal_array))\n",
    "    print('Number of images:', image2dtotal_array.size())\n",
    "    \n",
    "    image2d_overlay_chain.GetEntry(entry)\n",
    "    entry_image2doverlay_data = image2d_overlay_chain.image2d_overlay_branch\n",
    "    print('Data type:', entry_image2doverlay_data)\n",
    "    image2doverlay_array = entry_image2doverlay_data.as_vector()\n",
    "    print('Type of image2doverlay_array:', type(image2doverlay_array))\n",
    "    print('Number of images:', image2doverlay_array.size())\n",
    "    \n",
    "    for index, image in enumerate(image2dwire_array):\n",
    "        image_numpywire = larcv.as_ndarray(image)\n",
    "        image_numpywire[image_numpywire < 0] = 0\n",
    "        #image_numpywire[image_numpywire > 1] = 1\n",
    "        print(\"Image index\", index)\n",
    "        print(\"image_numpywire has type {}\".format(type(image_numpywire)))\n",
    "        print(\"Image dimensions are {}\".format(image_numpywire.shape))\n",
    "        fig = plt.figure(figsize=(8,8))\n",
    "        plt.imshow(image_numpywire, interpolation='none',cmap='jet')\n",
    "        plt.show()\n",
    "    \n",
    "    for index, image in enumerate(image2dweights_array):\n",
    "        image_numpyweights = larcv.as_ndarray(image)\n",
    "        image_numpyweights[image_numpyweights < 0] = 0\n",
    "        image_numpyweights[image_numpyweights > 1] = 0\n",
    "        print(\"Image index\", index)\n",
    "        print(\"image_numpyweights has type {}\".format(type(image_numpyweights)))\n",
    "        print(\"Image dimensions are {}\".format(image_numpyweights.shape))\n",
    "        fig = plt.figure(figsize=(8,8))\n",
    "        plt.imshow(image_numpyweights, interpolation='none',cmap='jet')\n",
    "        plt.show()\n",
    "        \n",
    "    for index, image in enumerate(image2dfill_array):\n",
    "        image_numpyfill = larcv.as_ndarray(image)\n",
    "        image_numpyfill[image_numpyfill < 0] = 0\n",
    "        image_numpyfill[image_numpyfill > 1] = 0\n",
    "        print(\"Image index\", index)\n",
    "        print(\"image_numpyfill has type {}\".format(type(image_numpyfill)))\n",
    "        print(\"Image dimensions are {}\".format(image_numpyfill.shape))\n",
    "        fig = plt.figure(figsize=(8,8))\n",
    "        plt.imshow(image_numpyfill, interpolation='none',cmap='jet')\n",
    "        plt.show()  \n",
    "        \n",
    "    for index, image in enumerate(image2dnofill_array):\n",
    "        image_numpynofill = larcv.as_ndarray(image)\n",
    "        image_numpynofill[image_numpynofill < 0] = 0\n",
    "        image_numpynofill[image_numpynofill > 1] = 0\n",
    "        print(\"Image index\", index)\n",
    "        print(\"image_numpynofill has type {}\".format(type(image_numpynofill)))\n",
    "        print(\"Image dimensions are {}\".format(image_numpynofill.shape))\n",
    "        fig = plt.figure(figsize=(8,8))\n",
    "        plt.imshow(image_numpynofill, interpolation='none',cmap='jet')\n",
    "        plt.show() \n",
    "        \n",
    "    for index, image in enumerate(image2dtotal_array):\n",
    "        image_numpytotal = larcv.as_ndarray(image)\n",
    "        image_numpytotal[image_numpytotal < 0] = 0\n",
    "        #image_numpytotal[image_numpytotal > 1] = 0\n",
    "        print(\"Image index\", index)\n",
    "        print(\"image_numpytotal has type {}\".format(type(image_numpytotal)))\n",
    "        print(\"Image dimensions are {}\".format(image_numpytotal.shape))\n",
    "        fig = plt.figure(figsize=(8,8))\n",
    "        plt.imshow(image_numpytotal, interpolation='none',cmap='jet')\n",
    "        plt.show()\n",
    "        \n",
    "    for index, image in enumerate(image2doverlay_array):\n",
    "        image_numpyoverlay = larcv.as_ndarray(image)\n",
    "        image_numpyoverlay[image_numpyoverlay < 0] = 0\n",
    "        #image_numpyoverlay[image_numpyoverlay > 1] = 0\n",
    "        print(\"Image index\", index)\n",
    "        print(\"image_numpyoverlay has type {}\".format(type(image_numpyoverlay)))\n",
    "        print(\"Image dimensions are {}\".format(image_numpyoverlay.shape))\n",
    "        fig = plt.figure(figsize=(8,8))\n",
    "        plt.imshow(image_numpyoverlay, interpolation='none',cmap='jet')\n",
    "        plt.show() "
   ]
  },
  {
   "cell_type": "code",
   "execution_count": null,
   "metadata": {},
   "outputs": [],
   "source": []
  }
 ],
 "metadata": {
  "kernelspec": {
   "display_name": "Python 2",
   "language": "python",
   "name": "python2"
  },
  "language_info": {
   "codemirror_mode": {
    "name": "ipython",
    "version": 2
   },
   "file_extension": ".py",
   "mimetype": "text/x-python",
   "name": "python",
   "nbconvert_exporter": "python",
   "pygments_lexer": "ipython2",
   "version": "2.7.12"
  }
 },
 "nbformat": 4,
 "nbformat_minor": 2
}
